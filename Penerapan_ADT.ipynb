{
  "nbformat": 4,
  "nbformat_minor": 0,
  "metadata": {
    "colab": {
      "name": "Untitled0.ipynb",
      "provenance": [],
      "collapsed_sections": []
    },
    "kernelspec": {
      "name": "python3",
      "display_name": "Python 3"
    },
    "language_info": {
      "name": "python"
    }
  },
  "cells": [
    {
      "cell_type": "code",
      "execution_count": 7,
      "metadata": {
        "colab": {
          "base_uri": "https://localhost:8080/"
        },
        "id": "124hdS4tKiqX",
        "outputId": "7a9f2b7c-905c-4822-c0bc-88c792784a0d"
      },
      "outputs": [
        {
          "output_type": "stream",
          "name": "stdout",
          "text": [
            "Aplikasi Validasi Tanggal\n",
            "Masukan Tanggal\n",
            "2\n",
            "Masukan Bulan\n",
            "2\n",
            "Masukan Tahun\n",
            "2022\n",
            "2 Februari 2022  adalah tanggal yang valid.\n"
          ]
        }
      ],
      "source": [
        "class Kalendar:\n",
        "    print(\"Aplikasi Validasi Tanggal\")\n",
        "    print(\"Masukan Tanggal\")\n",
        "    tanggal = int(input())\n",
        "    print(\"Masukan Bulan\")\n",
        "    bulan = int(input())\n",
        "    print(\"Masukan Tahun\")\n",
        "    tahun = int(input())\n",
        "\n",
        "    if(bulan == 1):\n",
        "        hari = 31        #namaBulan = \"Januari\"\n",
        "    elif(bulan == 2):\n",
        "        # Membuat Tahun Kabisat        \n",
        "        if((tahun % 4 == 0 and tahun % 100!=0) or tahun % 400 == 0):\n",
        "            hari = 29        \n",
        "        else:\n",
        "            hari = 28        \n",
        "            namaBulan = \"Februari\"\n",
        "    elif(bulan == 3):\n",
        "        hari = 31        \n",
        "        namaBulan = \"Maret\"\n",
        "    elif (bulan == 4):\n",
        "        hari = 30        \n",
        "        namaBulan = \"Mei\"\n",
        "    elif (bulan == 5):\n",
        "        hari = 31        \n",
        "        namaBulan = \"April\"\n",
        "    elif (bulan == 6):\n",
        "        hari = 30        \n",
        "        namaBulan = \"Juni\"\n",
        "    elif (bulan == 7):\n",
        "        hari = 31        \n",
        "        namaBulan = \"Juli\"\n",
        "    elif (bulan == 8):\n",
        "        hari = 30        \n",
        "        namaBulan = \"Agustus\"\n",
        "    elif (bulan == 9):\n",
        "        hari = 31        \n",
        "        namaBulan = \"September\"\n",
        "    elif (bulan == 10):\n",
        "        hari = 30        \n",
        "        namaBulan = \"Oktober\"\n",
        "    elif (bulan == 11):\n",
        "        hari = 31        \n",
        "        namaBulan = \"November\"\n",
        "    elif (bulan == 12):\n",
        "        hari = 30        \n",
        "        namaBulan = \"Desember\"\n",
        "    else:\n",
        "        hari = -1        \n",
        "        namaBulan = bulan\n",
        "\n",
        "    bTanggal = tanggal >=1 and tanggal <= hari\n",
        "    bBulan = bulan >=1 and bulan <=12    \n",
        "    bValid = bTanggal and bBulan\n",
        "\n",
        "    if(bValid):\n",
        "        hasil = \" adalah tanggal yang valid.\"   \n",
        "    else:\n",
        "        hasil = \" adalah tanggal yang tidak valid.\"\n",
        "    print(\"%d %s %d %s\"%(tanggal,namaBulan,tahun,hasil))"
      ]
    }
  ]
}

# DEFENISI ADT
      ADT adalah koleksi data dan operasi yang dapat digunakan untuk memanipulasi data, tipe data tertentu yang didefinisikan oleh pemrogram untuk kemudahan pemrograman serta untuk mengakomodasi tipe-tipe data yang tidak secara spesifik diakomodasi oleh bahasa pemrograman yang digunakan.
1.	ADT dapat memisah struktur penyimpanan (lokasi memori) dari perilaku.
2.	ADT dapat menyembunyikan informasi atau pengkapsulan, yaitu :
        – perubahan implementasi ADT tidak mengubah teks program lain bila antar muka tidak  berubah.
        – pemakaian dan pembuatan ADT dapat dilakukan terpisah, hanya perlu kesepakatan antarmuka pemakaian ADT
3.	ADT dapat membuat modul-modul yang menyerupai dengan konsep-konsep yang ditemukan pada domain persoalan
Penerapan ADT yaitu:
1) Tipe jadi (built-in): boolean, integer, real, array, dll
     ADT Built-in:
     a. Boolean
          Nilai: true dan false
          Operasi: and, or, not, xor, dll
     b. Integer
          Nilai: Semua bilangan
          Operasi: tambah, kurang, kali, bagi, dll
2) Tipe buatan (user-defined): stack, queue, tree, dll
      ADT buatan (user-defined) :
      a. Stack (tumpukan)
          Nilai : elemen dalam stack
          Operasi: create, destroy, push, pop
      b. Queue (antrian)
           Nilai: elemen dalam Queue
           Operasi: create, destroy, enqueue, dequeue, dll
      c. Tree (pohon)
           Nilai: elemen dalam pohon
           Operasi: insert, delete, find, traverse
